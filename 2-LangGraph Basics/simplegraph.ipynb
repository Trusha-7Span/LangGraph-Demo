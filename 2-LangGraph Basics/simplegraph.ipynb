{
 "cells": [
  {
   "cell_type": "markdown",
   "id": "45875c92",
   "metadata": {},
   "source": [
    "#### Build a simple workflow or graph using LangGraph \n",
    "\n",
    "state \n",
    "\n",
    "first, define the state of the graph \n",
    "the state schema serves as the input schema for all nodes and edges in the graph \n",
    "\n",
    "let's use the TypedDict class from python's typing module as our schema, which provided type hints for the keys"
   ]
  },
  {
   "cell_type": "code",
   "execution_count": null,
   "id": "1cdc77a7",
   "metadata": {},
   "outputs": [],
   "source": [
    "from typing_extensions import TypedDict\n",
    "\n",
    "class State(TypedDict):\n",
    "    graph_info:str"
   ]
  },
  {
   "cell_type": "code",
   "execution_count": null,
   "id": "23bf6251",
   "metadata": {},
   "outputs": [],
   "source": []
  }
 ],
 "metadata": {
  "kernelspec": {
   "display_name": "base",
   "language": "python",
   "name": "python3"
  },
  "language_info": {
   "name": "python",
   "version": "3.12.7"
  }
 },
 "nbformat": 4,
 "nbformat_minor": 5
}
