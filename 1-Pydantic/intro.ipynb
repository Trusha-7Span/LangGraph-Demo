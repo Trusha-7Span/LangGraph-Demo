{
 "cells": [
  {
   "cell_type": "markdown",
   "id": "f3c19286",
   "metadata": {},
   "source": [
    "Pydantic Basics : creating and using models \n",
    "Pydantic models are the foundation of data validation in python. they use python type annotations to define the structure and validate data at runtime. here's a detailed exploration of basic model creation with several examples\n"
   ]
  },
  {
   "cell_type": "code",
   "execution_count": 1,
   "id": "3e0b38e0",
   "metadata": {},
   "outputs": [],
   "source": [
    "from pydantic import BaseModel"
   ]
  },
  {
   "cell_type": "code",
   "execution_count": 4,
   "id": "4a914867",
   "metadata": {},
   "outputs": [
    {
     "name": "stdout",
     "output_type": "stream",
     "text": [
      "name='Trusha' age=20 city='Ahmd'\n"
     ]
    }
   ],
   "source": [
    "class Person(BaseModel):\n",
    "    name:str\n",
    "    age:int\n",
    "    city:str\n",
    "\n",
    "person=Person(name=\"Trusha\",age=20,city=\"Ahmd\")\n",
    "print(person)"
   ]
  },
  {
   "cell_type": "code",
   "execution_count": 5,
   "id": "94d77536",
   "metadata": {},
   "outputs": [
    {
     "data": {
      "text/plain": [
       "__main__.Person"
      ]
     },
     "execution_count": 5,
     "metadata": {},
     "output_type": "execute_result"
    }
   ],
   "source": [
    "type(person)"
   ]
  },
  {
   "cell_type": "code",
   "execution_count": 6,
   "id": "722cf37d",
   "metadata": {},
   "outputs": [
    {
     "name": "stdout",
     "output_type": "stream",
     "text": [
      "Person(name='Trusha', age=20, city='Ahmd')\n"
     ]
    }
   ],
   "source": [
    "from dataclasses import dataclass\n",
    "\n",
    "@dataclass\n",
    "class Person():\n",
    "    name:str\n",
    "    age:int\n",
    "    city:str\n",
    "\n",
    "person=Person(name=\"Trusha\",age=20,city=\"Ahmd\")\n",
    "print(person)"
   ]
  },
  {
   "cell_type": "markdown",
   "id": "32a2d9a2",
   "metadata": {},
   "source": [
    "2. models with optional fields"
   ]
  },
  {
   "cell_type": "markdown",
   "id": "858a2b15",
   "metadata": {},
   "source": [
    "add optional fields using python's optional type:"
   ]
  },
  {
   "cell_type": "code",
   "execution_count": 7,
   "id": "e16a8c9a",
   "metadata": {},
   "outputs": [],
   "source": [
    "from typing import Optional\n",
    "\n",
    "class Employee(BaseModel):\n",
    "    id:int\n",
    "    name:str\n",
    "    department:str\n",
    "    salary:Optional[float]=None\n",
    "    is_activate:Optional[bool]=True\n"
   ]
  },
  {
   "cell_type": "code",
   "execution_count": 9,
   "id": "69219fe3",
   "metadata": {},
   "outputs": [
    {
     "name": "stdout",
     "output_type": "stream",
     "text": [
      "id=1 name='Trusha' department='AIML' salary=None is_activate=True\n"
     ]
    }
   ],
   "source": [
    "emp1=Employee(id=1,name=\"Trusha\",department=\"AIML\")\n",
    "print(emp1)"
   ]
  },
  {
   "cell_type": "code",
   "execution_count": 10,
   "id": "025499ad",
   "metadata": {},
   "outputs": [
    {
     "name": "stdout",
     "output_type": "stream",
     "text": [
      "id=1 name='Trusha' department='AIML' salary=50000.0 is_activate=False\n"
     ]
    }
   ],
   "source": [
    "emp2=Employee(id=1,name=\"Trusha\",department=\"AIML\",salary=50000,is_activate=False)\n",
    "print(emp2)"
   ]
  },
  {
   "cell_type": "markdown",
   "id": "63e909ab",
   "metadata": {},
   "source": [
    "Definition :\n",
    "* Optional[Type]:indicates the field can be none \n",
    "* default value (= None or = True): makes the field optional\n",
    "* required fields must still be provided \n",
    "* pydantic validates types even for optional fields when values are provided "
   ]
  },
  {
   "cell_type": "code",
   "execution_count": 11,
   "id": "40b31660",
   "metadata": {},
   "outputs": [],
   "source": [
    "from pydantic import BaseModel\n",
    "from typing import List\n",
    "\n",
    "class Classroom(BaseModel):\n",
    "    room_number:str\n",
    "    students: List[str]\n",
    "    capacity: int"
   ]
  },
  {
   "cell_type": "code",
   "execution_count": 14,
   "id": "0a03c79e",
   "metadata": {},
   "outputs": [
    {
     "name": "stdout",
     "output_type": "stream",
     "text": [
      "room_number='A101' students=['Trusha', 'Hetvi', 'Shaili'] capacity=20\n"
     ]
    }
   ],
   "source": [
    "classroom =Classroom(\n",
    "    room_number=\"A101\",\n",
    "    students= [\"Trusha\",\"Hetvi\",\"Shaili\"],\n",
    "    capacity=20\n",
    ")\n",
    "print(classroom)"
   ]
  },
  {
   "cell_type": "markdown",
   "id": "994bbeb4",
   "metadata": {},
   "source": [
    "model with nested models\n",
    "* create complex structure with nested models"
   ]
  },
  {
   "cell_type": "code",
   "execution_count": 15,
   "id": "13c1d52d",
   "metadata": {},
   "outputs": [
    {
     "name": "stdout",
     "output_type": "stream",
     "text": [
      "customer_id=1 name='Trusha' address=Address(street='123 main st', city='ahmd', zip_code='02108')\n"
     ]
    }
   ],
   "source": [
    "from pydantic import BaseModel\n",
    "\n",
    "class Address(BaseModel):\n",
    "    street:str\n",
    "    city:str\n",
    "    zip_code:str\n",
    "    \n",
    "class Customer(BaseModel):\n",
    "    customer_id:int\n",
    "    name:str\n",
    "    address:Address \n",
    "    \n",
    "customer=Customer(\n",
    "    customer_id=1,\n",
    "    name=\"Trusha\",\n",
    "    address={\"street\":\"123 main st\",\"city\":\"ahmd\",\"zip_code\":\"02108\"}\n",
    ")\n",
    "\n",
    "print(customer)"
   ]
  },
  {
   "cell_type": "markdown",
   "id": "4f7d66dc",
   "metadata": {},
   "source": [
    "pydantic fields: customization and constaints\n",
    "\n",
    "the field function in pydantic enhance model fields beyond basic type hints by allowing you to specify validation rules, default values, aliases and more. here's a comprehensive tutorial with example "
   ]
  },
  {
   "cell_type": "code",
   "execution_count": 17,
   "id": "87384332",
   "metadata": {},
   "outputs": [
    {
     "name": "stdout",
     "output_type": "stream",
     "text": [
      "name='book' price=29.99 quantity=10\n"
     ]
    }
   ],
   "source": [
    "from pydantic import BaseModel,Field\n",
    "class Item(BaseModel):\n",
    "    name:str=Field(min_length=2,max_length=50)\n",
    "    price:float=Field(gt=0,le=1000)\n",
    "    quantity:int=Field(ge=0)\n",
    "    \n",
    "item=Item(name=\"book\",price=29.99,quantity=10)\n",
    "\n",
    "print(item)"
   ]
  },
  {
   "cell_type": "code",
   "execution_count": 19,
   "id": "53f6111b",
   "metadata": {},
   "outputs": [
    {
     "name": "stdout",
     "output_type": "stream",
     "text": [
      "username='alice' age=18 email='user@example.com'\n",
      "username='bob' age=25 email='bob@example.com'\n"
     ]
    }
   ],
   "source": [
    "from pydantic import BaseModel, Field\n",
    "\n",
    "class User(BaseModel):\n",
    "    username:str=Field(...,description=\"inique usename for the user\")\n",
    "    age:int=Field(default=18,description=\"user age, defaults to 18\")\n",
    "    email:str=Field(default_factory=lambda:\"user@example.com\",description=\"default email address\")\n",
    "    \n",
    "user1=User(username=\"alice\")\n",
    "print(user1)\n",
    "\n",
    "user2=User(username=\"bob\",age=25,email=\"bob@example.com\")\n",
    "print(user2)"
   ]
  },
  {
   "cell_type": "code",
   "execution_count": 21,
   "id": "00397893",
   "metadata": {},
   "outputs": [
    {
     "name": "stdout",
     "output_type": "stream",
     "text": [
      "{'properties': {'username': {'description': 'inique usename for the user', 'title': 'Username', 'type': 'string'}, 'age': {'default': 18, 'description': 'user age, defaults to 18', 'title': 'Age', 'type': 'integer'}, 'email': {'description': 'default email address', 'title': 'Email', 'type': 'string'}}, 'required': ['username'], 'title': 'User', 'type': 'object'}\n"
     ]
    }
   ],
   "source": [
    "print(User.schema())"
   ]
  },
  {
   "cell_type": "code",
   "execution_count": 22,
   "id": "39ae9cb8",
   "metadata": {},
   "outputs": [
    {
     "name": "stdout",
     "output_type": "stream",
     "text": [
      "{'properties': {'username': {'description': 'inique usename for the user', 'title': 'Username', 'type': 'string'}, 'age': {'default': 18, 'description': 'user age, defaults to 18', 'title': 'Age', 'type': 'integer'}, 'email': {'description': 'default email address', 'title': 'Email', 'type': 'string'}}, 'required': ['username'], 'title': 'User', 'type': 'object'}\n"
     ]
    }
   ],
   "source": [
    "print(User.model_json_schema())"
   ]
  },
  {
   "cell_type": "code",
   "execution_count": null,
   "id": "03d14884",
   "metadata": {},
   "outputs": [],
   "source": []
  }
 ],
 "metadata": {
  "kernelspec": {
   "display_name": "base",
   "language": "python",
   "name": "python3"
  },
  "language_info": {
   "codemirror_mode": {
    "name": "ipython",
    "version": 3
   },
   "file_extension": ".py",
   "mimetype": "text/x-python",
   "name": "python",
   "nbconvert_exporter": "python",
   "pygments_lexer": "ipython3",
   "version": "3.12.7"
  }
 },
 "nbformat": 4,
 "nbformat_minor": 5
}
